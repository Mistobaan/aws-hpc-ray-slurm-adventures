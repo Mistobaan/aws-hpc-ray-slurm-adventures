{
 "cells": [
  {
   "cell_type": "code",
   "execution_count": 14,
   "metadata": {},
   "outputs": [
    {
     "name": "stdout",
     "output_type": "stream",
     "text": [
      "Requirement already satisfied: datasets in /fsx/home-mistobaan/.local/lib/python3.8/site-packages (2.9.0)\n",
      "Requirement already satisfied: humanize in /fsx/home-mistobaan/.local/lib/python3.8/site-packages (4.6.0)\n",
      "Requirement already satisfied: numpy>=1.17 in /fsx/home-mistobaan/.local/lib/python3.8/site-packages (from datasets) (1.24.2)\n",
      "Requirement already satisfied: fsspec[http]>=2021.11.1 in /fsx/home-mistobaan/.local/lib/python3.8/site-packages (from datasets) (2023.1.0)\n",
      "Requirement already satisfied: huggingface-hub<1.0.0,>=0.2.0 in /fsx/home-mistobaan/.local/lib/python3.8/site-packages (from datasets) (0.12.0)\n",
      "Requirement already satisfied: packaging in /fsx/home-mistobaan/.local/lib/python3.8/site-packages (from datasets) (23.0)\n",
      "Requirement already satisfied: dill<0.3.7 in /fsx/home-mistobaan/.local/lib/python3.8/site-packages (from datasets) (0.3.6)\n",
      "Requirement already satisfied: aiohttp in /fsx/home-mistobaan/.local/lib/python3.8/site-packages (from datasets) (3.8.3)\n",
      "Requirement already satisfied: pyarrow>=6.0.0 in /fsx/home-mistobaan/.local/lib/python3.8/site-packages (from datasets) (11.0.0)\n",
      "Requirement already satisfied: multiprocess in /fsx/home-mistobaan/.local/lib/python3.8/site-packages (from datasets) (0.70.14)\n",
      "Requirement already satisfied: requests>=2.19.0 in /fsx/home-mistobaan/.local/lib/python3.8/site-packages (from datasets) (2.28.2)\n",
      "Requirement already satisfied: responses<0.19 in /fsx/home-mistobaan/.local/lib/python3.8/site-packages (from datasets) (0.18.0)\n",
      "Requirement already satisfied: tqdm>=4.62.1 in /fsx/home-mistobaan/.local/lib/python3.8/site-packages (from datasets) (4.64.1)\n",
      "Requirement already satisfied: pandas in /fsx/home-mistobaan/.local/lib/python3.8/site-packages (from datasets) (1.5.3)\n",
      "Requirement already satisfied: pyyaml>=5.1 in /fsx/home-mistobaan/.local/lib/python3.8/site-packages (from datasets) (6.0)\n",
      "Requirement already satisfied: xxhash in /fsx/home-mistobaan/.local/lib/python3.8/site-packages (from datasets) (3.2.0)\n",
      "Requirement already satisfied: aiosignal>=1.1.2 in /fsx/home-mistobaan/.local/lib/python3.8/site-packages (from aiohttp->datasets) (1.3.1)\n",
      "Requirement already satisfied: charset-normalizer<3.0,>=2.0 in /fsx/home-mistobaan/.local/lib/python3.8/site-packages (from aiohttp->datasets) (2.1.1)\n",
      "Requirement already satisfied: yarl<2.0,>=1.0 in /fsx/home-mistobaan/.local/lib/python3.8/site-packages (from aiohttp->datasets) (1.8.2)\n",
      "Requirement already satisfied: multidict<7.0,>=4.5 in /fsx/home-mistobaan/.local/lib/python3.8/site-packages (from aiohttp->datasets) (6.0.4)\n",
      "Requirement already satisfied: frozenlist>=1.1.1 in /fsx/home-mistobaan/.local/lib/python3.8/site-packages (from aiohttp->datasets) (1.3.3)\n",
      "Requirement already satisfied: async-timeout<5.0,>=4.0.0a3 in /fsx/home-mistobaan/.local/lib/python3.8/site-packages (from aiohttp->datasets) (4.0.2)\n",
      "Requirement already satisfied: attrs>=17.3.0 in /fsx/home-mistobaan/.local/lib/python3.8/site-packages (from aiohttp->datasets) (22.2.0)\n",
      "Requirement already satisfied: typing-extensions>=3.7.4.3 in /fsx/home-mistobaan/.local/lib/python3.8/site-packages (from huggingface-hub<1.0.0,>=0.2.0->datasets) (4.4.0)\n",
      "Requirement already satisfied: filelock in /fsx/home-mistobaan/.local/lib/python3.8/site-packages (from huggingface-hub<1.0.0,>=0.2.0->datasets) (3.9.0)\n",
      "Requirement already satisfied: idna<4,>=2.5 in /fsx/home-mistobaan/.local/lib/python3.8/site-packages (from requests>=2.19.0->datasets) (3.4)\n",
      "Requirement already satisfied: certifi>=2017.4.17 in /fsx/home-mistobaan/.local/lib/python3.8/site-packages (from requests>=2.19.0->datasets) (2022.12.7)\n",
      "Requirement already satisfied: urllib3<1.27,>=1.21.1 in /fsx/home-mistobaan/.local/lib/python3.8/site-packages (from requests>=2.19.0->datasets) (1.26.14)\n",
      "Requirement already satisfied: pytz>=2020.1 in /fsx/home-mistobaan/.local/lib/python3.8/site-packages (from pandas->datasets) (2022.7.1)\n",
      "Requirement already satisfied: python-dateutil>=2.8.1 in /fsx/home-mistobaan/.local/lib/python3.8/site-packages (from pandas->datasets) (2.8.2)\n",
      "Requirement already satisfied: six>=1.5 in /fsx/home-mistobaan/.local/lib/python3.8/site-packages (from python-dateutil>=2.8.1->pandas->datasets) (1.16.0)\n",
      "Note: you may need to restart the kernel to use updated packages.\n"
     ]
    }
   ],
   "source": [
    "%pip install datasets humanize"
   ]
  },
  {
   "cell_type": "code",
   "execution_count": 17,
   "metadata": {},
   "outputs": [
    {
     "data": {
      "text/plain": [
       "'Abstract\\nWhereas rad'"
      ]
     },
     "execution_count": 17,
     "metadata": {},
     "output_type": "execute_result"
    }
   ],
   "source": [
    "import os\n",
    "import pyarrow as pa\n",
    "import pandas as pd\n",
    "\n",
    "PATH = '/fsx/mistobaan/datasets/S2ORC_ver2/'\n",
    "arrow_file = os.path.join(PATH, 'dataset.arrow')\n",
    "\n",
    "# pd.read_feather(arrow_file).head()\n",
    "\n",
    "# Read the Arrow file\n",
    "# arrow_table = pf.read_table(arrow_file)\n",
    "\n",
    "# Convert the Arrow table to a Pandas DataFrame\n",
    "# df = arrow_table.to_pandas()\n",
    "# Read the Arrow file\n",
    "arrow_stream = pa.input_stream(arrow_file)\n",
    "arrow_record_batch = pa.RecordBatchStreamReader(arrow_stream).read_next_batch()\n",
    "\n",
    "# Convert the Apache Arrow RecordBatch to a Pandas DataFrame\n",
    "df = pa.Table.from_batches([arrow_record_batch]).to_pandas()\n",
    "df.iloc[0].text[:20]"
   ]
  },
  {
   "cell_type": "code",
   "execution_count": 26,
   "metadata": {},
   "outputs": [],
   "source": [
    "import datasets\n",
    "import os\n",
    "import humanize\n",
    "\n",
    "# PATH = '/fsx/home-spirit/s2orc/dataset.arrow'\n",
    "PATH = '/fsx/mistobaan/datasets/S2ORC_ver2'\n",
    "\n",
    "assert os.path.exists(PATH), PATH\n",
    "\n",
    "dataset = datasets.load_from_disk(PATH)"
   ]
  },
  {
   "cell_type": "code",
   "execution_count": 3,
   "metadata": {},
   "outputs": [
    {
     "ename": "ModuleNotFoundError",
     "evalue": "No module named 'tokenizers'",
     "output_type": "error",
     "traceback": [
      "\u001b[0;31m---------------------------------------------------------------------------\u001b[0m",
      "\u001b[0;31mModuleNotFoundError\u001b[0m                       Traceback (most recent call last)",
      "Cell \u001b[0;32mIn[3], line 2\u001b[0m\n\u001b[1;32m      1\u001b[0m \u001b[39mfrom\u001b[39;00m \u001b[39mdatasets\u001b[39;00m \u001b[39mimport\u001b[39;00m load_dataset\n\u001b[0;32m----> 2\u001b[0m \u001b[39mfrom\u001b[39;00m \u001b[39mtokenizers\u001b[39;00m \u001b[39mimport\u001b[39;00m AutoTokenizer\n\u001b[1;32m      3\u001b[0m tokenizer \u001b[39m=\u001b[39m AutoTokenizer\u001b[39m.\u001b[39mfrom_pretrained(\u001b[39m'\u001b[39m\u001b[39mdistilbert-base-uncased\u001b[39m\u001b[39m'\u001b[39m)\n\u001b[1;32m      5\u001b[0m dataset \u001b[39m=\u001b[39m datasets\u001b[39m.\u001b[39mload_from_disk(PATH, streaming\u001b[39m=\u001b[39m\u001b[39mTrue\u001b[39;00m)\n",
      "\u001b[0;31mModuleNotFoundError\u001b[0m: No module named 'tokenizers'"
     ]
    }
   ],
   "source": [
    "from datasets import load_dataset\n",
    "from tokenizers import AutoTokenizer\n",
    "tokenizer = AutoTokenizer.from_pretrained('distilbert-base-uncased')\n",
    "\n",
    "dataset = datasets.load_from_disk(PATH, streaming=True)\n",
    "\n",
    "def encode(examples):\n",
    "    return tokenizer(examples['text'], truncation=True, padding='max_length')\n",
    "\n",
    "dataset = dataset.map(encode, batched=True)\n",
    "next(iter(dataset))"
   ]
  },
  {
   "cell_type": "code",
   "execution_count": 4,
   "metadata": {},
   "outputs": [],
   "source": [
    "from collections.abc import Mapping\n",
    "from typing import Any, Callable, Dict, List, NewType, Optional, Tuple, Union"
   ]
  },
  {
   "cell_type": "code",
   "execution_count": 5,
   "metadata": {},
   "outputs": [
    {
     "data": {
      "text/plain": [
       "'\\nA DataCollator is a function that takes a list of samples from a Dataset and collate them into a batch, as a dictionary\\nof PyTorch/TensorFlow tensors or NumPy arrays.\\n'"
      ]
     },
     "execution_count": 5,
     "metadata": {},
     "output_type": "execute_result"
    }
   ],
   "source": [
    "InputDataClass = NewType(\"InputDataClass\", Any)\n",
    "\n",
    "\"\"\"\n",
    "A DataCollator is a function that takes a list of samples from a Dataset and collate them into a batch, as a dictionary\n",
    "of PyTorch/TensorFlow tensors or NumPy arrays.\n",
    "\"\"\""
   ]
  },
  {
   "cell_type": "code",
   "execution_count": 6,
   "metadata": {},
   "outputs": [],
   "source": [
    "DataCollator = NewType(\"DataCollator\", Callable[[List[InputDataClass]], Dict[str, Any]])"
   ]
  },
  {
   "cell_type": "code",
   "execution_count": null,
   "metadata": {},
   "outputs": [],
   "source": [
    "class DataCollatorMixin:\n",
    "    def __call__(self, features, return_tensors=None):\n",
    "        if return_tensors is None:\n",
    "            return_tensors = self.return_tensors\n",
    "        if return_tensors == \"tf\":\n",
    "            return self.tf_call(features)\n",
    "        elif return_tensors == \"pt\":\n",
    "            return self.torch_call(features)\n",
    "        elif return_tensors == \"np\":\n",
    "            return self.numpy_call(features)\n",
    "        else:\n",
    "            raise ValueError(f\"Framework '{return_tensors}' not recognized!\")\n"
   ]
  },
  {
   "cell_type": "code",
   "execution_count": null,
   "metadata": {},
   "outputs": [],
   "source": [
    "def default_data_collator(features: List[InputDataClass], return_tensors=\"pt\") -> Dict[str, Any]:\n",
    "    \"\"\"\n",
    "    Very simple data collator that simply collates batches of dict-like objects and performs special handling for\n",
    "    potential keys named:\n",
    "        - `label`: handles a single value (int or float) per object\n",
    "        - `label_ids`: handles a list of values per object\n",
    "    Does not do any additional preprocessing: property names of the input object will be used as corresponding inputs\n",
    "    to the model. See glue and ner for example of how it's useful.\n",
    "    \"\"\"\n",
    "\n",
    "    # In this function we'll make the assumption that all `features` in the batch\n",
    "    # have the same attributes.\n",
    "    # So we will look at the first element as a proxy for what attributes exist\n",
    "    # on the whole batch.\n",
    "\n",
    "    if return_tensors == \"pt\":\n",
    "        return torch_default_data_collator(features)\n"
   ]
  },
  {
   "cell_type": "code",
   "execution_count": null,
   "metadata": {},
   "outputs": [],
   "source": [
    "@dataclass\n",
    "class DefaultDataCollator(DataCollatorMixin):\n",
    "    \"\"\"\n",
    "    Very simple data collator that simply collates batches of dict-like objects and performs special handling for\n",
    "    potential keys named:\n",
    "        - `label`: handles a single value (int or float) per object\n",
    "        - `label_ids`: handles a list of values per object\n",
    "    Does not do any additional preprocessing: property names of the input object will be used as corresponding inputs\n",
    "    to the model. See glue and ner for example of how it's useful.\n",
    "    This is an object (like other data collators) rather than a pure function like default_data_collator. This can be\n",
    "    helpful if you need to set a return_tensors value at initialization.\n",
    "    Args:\n",
    "        return_tensors (`str`):\n",
    "            The type of Tensor to return. Allowable values are \"np\", \"pt\" and \"tf\".\n",
    "    \"\"\"\n",
    "\n",
    "    return_tensors: str = \"pt\"\n",
    "\n",
    "    def __call__(self, features: List[Dict[str, Any]], return_tensors=None) -> Dict[str, Any]:\n",
    "        if return_tensors is None:\n",
    "            return_tensors = self.return_tensors\n",
    "        return default_data_collator(features, return_tensors)\n"
   ]
  },
  {
   "cell_type": "code",
   "execution_count": null,
   "metadata": {},
   "outputs": [],
   "source": [
    "def torch_default_data_collator(features: List[InputDataClass]) -> Dict[str, Any]:\n",
    "    import torch\n",
    "\n",
    "    if not isinstance(features[0], Mapping):\n",
    "        features = [vars(f) for f in features]\n",
    "    first = features[0]\n",
    "    batch = {}\n",
    "\n",
    "    # Special handling for labels.\n",
    "    # Ensure that tensor is created with the correct type\n",
    "    # (it should be automatically the case, but let's make sure of it.)\n",
    "    if \"label\" in first and first[\"label\"] is not None:\n",
    "        label = first[\"label\"].item() if isinstance(first[\"label\"], torch.Tensor) else first[\"label\"]\n",
    "        dtype = torch.long if isinstance(label, int) else torch.float\n",
    "        batch[\"labels\"] = torch.tensor([f[\"label\"] for f in features], dtype=dtype)\n",
    "    elif \"label_ids\" in first and first[\"label_ids\"] is not None:\n",
    "        if isinstance(first[\"label_ids\"], torch.Tensor):\n",
    "            batch[\"labels\"] = torch.stack([f[\"label_ids\"] for f in features])\n",
    "        else:\n",
    "            dtype = torch.long if type(first[\"label_ids\"][0]) is int else torch.float\n",
    "            batch[\"labels\"] = torch.tensor([f[\"label_ids\"] for f in features], dtype=dtype)\n",
    "\n",
    "    # Handling of all other possible keys.\n",
    "    # Again, we will use the first element to figure out which key/values are not None for this model.\n",
    "    for k, v in first.items():\n",
    "        if k not in (\"label\", \"label_ids\") and v is not None and not isinstance(v, str):\n",
    "            if isinstance(v, torch.Tensor):\n",
    "                batch[k] = torch.stack([f[k] for f in features])\n",
    "            elif isinstance(v, np.ndarray):\n",
    "                batch[k] = torch.tensor(np.stack([f[k] for f in features]))\n",
    "            else:\n",
    "                batch[k] = torch.tensor([f[k] for f in features])\n",
    "\n",
    "    return batch"
   ]
  },
  {
   "attachments": {},
   "cell_type": "markdown",
   "metadata": {},
   "source": [
    "# Streaming\n",
    "\n",
    "```python\n",
    "dataset = load_dataset(\"datasetname\", split='train', streaming=True) -> IterableDataset\n",
    "```\n",
    "# An IterableDataset is useful for iterative jobs like training a model.\n",
    "\n",
    "# Shuffling\n",
    "\n",
    "```python\n",
    "shuffled_dataset = dataset.shuffle(seed=42, buffer_size=10_000)\n",
    "shuffled_dataset.set_epoch(epoch) # to (re)-shuffle the dataset at each epoch with a different seed\n",
    "```\n"
   ]
  },
  {
   "cell_type": "markdown",
   "metadata": {},
   "source": [
    "\n",
    "## data access\n",
    "\n",
    "```python\n",
    "IterableDataset.take(n) # returns the first n examples in a dataset:\n",
    "IterableDataset.skip(n) # skips the first n examples in a dataset:\n",
    "```\n",
    "\n",
    "```python\n",
    "# multilingual_dataset = interleave_datasets([en_dataset, fr_dataset]) # interleaves the examples of the datasets\n",
    "from datasets import interleave_datasets\n",
    "multilingual_dataset_with_oversampling = interleave_datasets([en_dataset, fr_dataset], probabilities=[0.8, 0.2], seed=42)\n",
    "\n",
    "## Column manipulation\n",
    "- IterableDataset.rename_column(old_name, new_name) # renames a column\n",
    "\n",
    "## Filtering\n",
    "```python\n",
    "start_with_ar = dataset.filter(lambda example: example['text'].startswith('Ar'))\n",
    "```\n",
    "\n"
   ]
  },
  {
   "cell_type": "code",
   "execution_count": 27,
   "metadata": {},
   "outputs": [],
   "source": [
    "# !cat $PATH/dataset_info.json"
   ]
  },
  {
   "cell_type": "code",
   "execution_count": 28,
   "metadata": {},
   "outputs": [
    {
     "data": {
      "text/plain": [
       "'11.7 million'"
      ]
     },
     "execution_count": 28,
     "metadata": {},
     "output_type": "execute_result"
    }
   ],
   "source": [
    "humanize.number.intword(len(dataset))"
   ]
  },
  {
   "cell_type": "code",
   "execution_count": 29,
   "metadata": {},
   "outputs": [],
   "source": [
    "doc = next(iter(dataset))"
   ]
  },
  {
   "cell_type": "code",
   "execution_count": null,
   "metadata": {},
   "outputs": [],
   "source": [
    "# set the datasets cache\n",
    "%env HF_DATASETS_CACHE = /fsx/mistobaan/datasets_cache"
   ]
  },
  {
   "cell_type": "code",
   "execution_count": 35,
   "metadata": {},
   "outputs": [
    {
     "name": "stdout",
     "output_type": "stream",
     "text": [
      "Abstract\n",
      "Whereas radio-diagnostic centers have potential to present hazardous effects due of ionizing radiation. Radio-diagnostic workers awareness, practices regarding radiation protection issues, availability of radiation protection devices and effective personal radiation exposure monitoring process has an important role to safe working in these places. We carried out this study in nine governmental Gaza governorates hospitals. The study instrument was close-ended structured questionnaire consists of five parts. 182 radio-diagnostic workers participated in the work. Based on the obtained data, the participants reported that 35.2% of personal radiation protection devices are available in the radio-diagnostic centers at governmental Gaza governorates hospitals. In spite the fact that 74.8% of participants have awareness about radiation protection issues, but it is only about 53.4% of participants follows the radiation protection practices. There is an obvious poor of personal radiation exposure monitoring process. Conclusively, the results represented in this work reflect that majority of participants believe there is no radiation safety officer to provide the service. Therefore, there is a desperate need for rules, regulations and radiation protection act in the field of radiation in medical field.\n",
      "Introduction\n",
      "Ionizing radiation in medical imaging is one of the powerful diagnostic tools in medicine. Radiation which is applied in radiology departments has hazardous effects on biological systems [1, 2] .\n",
      "The level of awareness concerning with radiation protection influences in staff behavior. If they have not enough information related to mentioned issue, their action will not be safe and resulted to adverse effects [3, 4] .\n",
      "All of these individuals may be considered radiation workers, depending on their level of exposure and on national regulations. All workers require appropriate monitoring continuously by common personnel dosimeters like film badge and thermo-luminescence dosimeter. They must also receive education and training appropriate to their jobs and protect by tools and equipment [5] . In Gaza governorates hospitals, there is no radiation protection program, lack of clear information about radiation protection measures and guidelines. Therefore, the study results will help in implementing modification to alleviate risk factors. In addition, to develop an action plan and new management strategies for radiation protection enhancements and provide clear information to the decision makers.\n",
      "Objectives\n",
      "The main objective of the study is to evaluation of radiation protection measures at governmental Gaza governorates hospitals. The other specific objectives are:\n",
      " To identify the availability of radiation protection devices in the radio-diagnostic centers.  To measure the level of radio-diagnostic workers awareness about radiation protection issues.  To measure the level of radio-diagnostic workers practices about radiation protection issues.  To evaluate the personal radiation exposure monitoring process.  To help the planners and decision makers to modify the future plans regarding radiation protection to be more and to develop radiation safety culture.\n",
      "Materials and Methods\n",
      "The present study is a descriptive analytical cross sectional study. We carried out this study in nine governmental Gaza governorates hospitals. The target population of this study is the radio-diagnostic workers who have been working at radio-diagnostic centers in these hospitals. This estimated approximately 185 medical radiographers and 45 radiologists. The hospitals were selected because of their large and diverse of their radio-diagnostic services.\n",
      "The sample size was calculated by using sample size calculator from the survey system on the web, with confidence level of 95% and confidence interval of 5. The calculated sample size was 144 of the 230 radiodiagnostic workers. We decided to give rise this number to 182 in order to increase the response rate and to compensate the uncertainties. The study instrument was face to face interview through close-ended structured questionnaire.\n",
      "The validity of the questionnaire was tested by six specialists in the fields of radiology, medical physics, public health and statistics.\n",
      "A pilot study was conducted before starting real data collection. It was served as a pre-test for the questionnaire to check the ambiguity in the question statements and the time taken to complete the questionnaire. Twenty radiodiagnostic workers were chosen to participate in the pilot study. They were selected by the convenience method from the hospitals that have been previously identified. Slight modifications were also done on the questionnaire. The questionnaire content reliability and internal consistency determined by using Cronbach's Alpha in SPSS.\n",
      "The Questionnaire Consists of Five Parts and Includes the Following\n",
      "Part one: consisted of eight questions about socio-demographic factors and related work information. This includes: age, sex, occupation, academic qualification, years of experience, name of hospital, type of radio-diagnostic machines who use it, and daily work hours inside the radio-diagnostic rooms.\n",
      "Part two: consisted of ten questions related to the availability of radiation protection devices in the radiodiagnostic centers. This contains (lead apron, gonad shield, lead curtains, lead shields or barrier, thyroid shields, lead glass, lead gloves, breast shields, radiation warning signs and caution lights).\n",
      "Part three: consisted of eighteen questions to measure the level of radio-diagnostic workers awareness about radiation protection issues. This also gives some information about the general understanding of radiation protection issues.\n",
      "Part four: consisted of fifteen questions related to describe of radio-diagnostic workers practices about radiation protection issues.\n",
      "Part five: consisted of six questions to evaluate the personal radiation exposure monitoring process. Data checked, coded, entered and analyzed using SPSS 20 (Statistical Package for the Social Science Inc. Chicago, Illinois USA, version 20) statistical package.\n",
      "Results and Discussion\n",
      "Tale (1), shows 79.1% (n=144) of participants are medical radiographers and 20.9% (n=38) are radiologists. Most of radio-diagnostic workers that formulate 82.8%% (n=144) have a bachelor degree.\n",
      "There is a wide variation in sex of radio-diagnostic workers, where 76.1% (n=144) of the study participants are males and 23.9% (n=43) females. This result indicates that the most of radio-diagnostic workers are males and this is attributed to the community culture towards women who working in radiology field and their fear from transmitting the risk of radiation to their future generations.\n",
      "The study shows that the participants ages were between 30 and 39 years which formulates 46.4% (n=84) of the participants, this indicates that the radio-diagnostic population are young labors.\n",
      "The study population was categorized into four groups according to their practical experience and refers that most of the radio-diagnostic workers have sufficient practical experience in radio-diagnostic field.\n",
      "Clearly, it is found that the largest number of study participants from Al Shifa Medical Complex, who formulates 31.3% (n=57) of the study participants. However, the lowest number of study participants from Abdel Aziz Rantessi hospital who formulates 4.9% (n=9) of the participants, this result is not a surprise since the participants proportions depend on the number of radio-diagnostic workers in each hospital, where Al Shifa Medical Complex is a major one.\n",
      "Basic X-ray machines is the most common used, which formulates 83% (n=151) of participants. While 14.8% (n=27) of participants used with mammography machines, this result is reasonable because the basic X-ray machines are the most prevalent in terms of the number and use in the hospitals. Whereas, the dealing with the mammography machines restricted to females workers.\n",
      "Most of radio-diagnostic workers that formulate 34.1% (n=60) working between 3 and 4 hours inside the radiodiagnostic rooms per day, while 27.8% (n=49) of the participants working between 2 and 3 hours per day. The personal radiation protection devices are the principal for radiology workers [6] . A visible warning sign and caution light required to alert individuals to radiological conditions [7] . However, according to the participants knowledge, it is about 35.2% of personal radiation protection devices are available in the radio-diagnostic centers at governmental Gaza governorates hospitals, Table 2 .\n",
      "As it displays in the figure (4.26), the maximum rate about the availability of personal radiation protection devices specified to lead aprons and thyroid shields by 95.6% (n=174) and 75.8% (n=138) respectively. The minimum rate that related to the availability of personal radiation protection devices specified to lead curtains, breast shields and gonad shields by 5.5% (n=10), 7.1% (n=13) and 15.9% (n=29) respectively. As shown in Figure1 in spite the fact that 74.8% of participants have awareness about radiation protection issues, but it is only about 53.4% of participants follows the radiation protection practices. This result is surprising and alarming. Clearly it seems unsatisfactory and indicates that the approximately half of participants have negative practices toward radiation protection issues. Table 3 shows that the radiation protection advisers are not available in the most of radio-diagnostic centers that surveyed. About 60.4% (n=111) of study participants have a personal radiation exposure monitoring device. Approximately 55% (n=61) of participants who have personal radiation exposure monitoring device use this device during their work in radio-diagnostic rooms, while 31.5% (n=35) of participants sometimes use this device and 13.5% (n=15) of participants don't use this device during their work in radio-diagnostic rooms.\n",
      "The most of participants who have a dosimeter don't receive guidance about the proper handling with the personal radiation exposure monitoring devices, this represents about 75.7% (n=84) of participants. There are a big problem in personal radiation exposure monitoring process, majority of the participants 64.9% (n=72) believe that the measurements results doesn't take into consideration by the safety officers. There is no one of radio-diagnostic workers receive a new personal radiation exposure monitoring device when the devices collect to measure of radiation dose. As shown in Figure ( 2) there are a miscellaneous reasons advanced by the study participants about the negligence in personal radiation exposure monitoring process. Majority of participants 64.9% (n=63) believe that there is no radiation safety officer to provide the service. While about 57.7% (n=56) believe that another reason was put forward by the participants. This is due to the carelessly of hospital management, that represent about 57.7% (n=56). Another opinion reports that there is lack of fund to purchase these devices and this represents about 32.0% (n=31). Finally, 24.7% (n=24) of participants believe that the radio-diagnostic workers do not request the dosimeters. The independent samples t-test, frequency, one-way analysis of variance (ANOVA), mean and the standard deviation were carried out and developed in order to identify the relationship between the level of availability the personal radiation protection devices, awareness and practices regarding radiation protection issues and evaluation of personal radiation exposure monitoring process as a dependent variables. However, the socio-demographic and work related factors for workers as independent variables.\n",
      "According to one-way variance (ANOVA) analysis, (P value=0.003), the results in Table 4 reflect there is a difference in the practices mean among the radio-diagnostic workers according to their age groups. The highest mean value (72) was for age group more than 50 years, while the lowest mean value (49.05) was for age group between 30 and 39 years. Clearly that the calculated p-value is less than the significant level which is equal 0.05 (p-value < 0.05).So, the alternative hypothesis that there is statistically significant relationship between the participants practices regarding radiation protection and their age groups is accepted.\n",
      "Clearly that there is a statistically significant difference according to the participants age groups (p-value=0.037), this difference is highest among radio-diagnostic workers with age groups more than 50 years, with mean value (41.11). The lowest mean (23.11) is among age group between 20 and 29 years. This is logical result and reflects that the new employees are not included in the personal radiation exposure monitoring process. The results in Table 5 shows that there are no statistically significant differences the dependent variables due to participants sex. According to one-way variance (ANOVA) analysis in Table 6 (p-value=0.029).There is a statistically significant relationship between radio-diagnostic workers awareness toward radiation protection issues due to their occupation. There are a highly statistically significant differencesbetween the radio-diagnostic workers evaluation regarding personal radiation exposure monitoring process and their occupation (p-value=0.000). Clearly in Table 7 that there is a statistically significant difference in the radio-diagnostic workers practices according to their academic qualification (p-value=0.008). This result may be attributed to the quality of education materials and curriculum given to the three different groups.\n",
      "There is statistically significant difference between the evaluation regarding personal radiation exposure monitoring process among radio-diagnostic workers and their academic qualifications (p-value=0.013).\n",
      "As shown in Table 8 there is a statistically significant difference in the radio-diagnostic workers awareness level due to their years of practical experience (p-value=0.017).\n",
      "There is a highly statistically significant difference in the radio-diagnostic practices due to their practical experience years (p-value=0.000). This result may be attributed to long-term of occupational radiation doses for those who have more than 20 years of work. So, this group of radio-diagnostic workers has become more concerned about the health impacts from radiation exposures than those who have less period of experience. Hence, they applied the protection procedures more carefully to decrease the probability of radiation risks on their health.\n",
      "There are a highly statistically significant differences in the evaluation of personal radiation exposure monitoring process due to their practical experience years (p-value=0.000). As shown in Table 9 there are highly statistically significant differences in the participants evaluation of availability of radiation protection devices(p-value=0.000), participants awareness (p-value=0.028) and participants practices (p-value=0.001) due to their hospitals. Clearly in Table 10 that there is a statistically significant difference in the radio-diagnostic workers practices according to their daily work hours (p-value=0.008). This difference is high among radio-diagnostic workers who work more than 5 hours (67.1), the lowest is among radio-diagnostic workers who work between 2 and 4 hours (46.7). \n",
      "Conclusion\n",
      "A descriptive analytical cross sectional study, based on the analysis of data collected by a close-ended structured questionnaire consists of five parts which designed for matching the study needs and 182 radio-diagnostic workers participated in the work. We conducted the independent samples t-test, frequency and one-way analysis of variance (ANOVA). These tests detect the difference between the availability of personal radiation protection devices, awareness and practices level regarding radiation protection issues and evaluation of personal radiation exposure monitoring process as a dependent variables. However, the socio-demographic and work related factors among radiodiagnostic workers are independent variables.\n",
      "According to the results displayed in chapter four, the participants reported that 35.2% of personal radiation protection devices are available in the radio-diagnostic centers at governmental Gaza governorates hospitals.\n",
      "The results indicate unsatisfactory practices toward radiation protection issues, where approximately half of participants have negative practices. In general, the results revealed that there is an obvious poor of personal radiation exposure monitoring process. There is also a statistically significant difference in the participants awareness level due to their years of practical experience and occupation.\n",
      "Overall, the results represented in this work reflect that majority of participants believe there is no radiation safety officer to provide the service. Therefore, there is a desperate need for rules, regulations and radiation protection act in the field of radiation in medical field.\n",
      "\n"
     ]
    }
   ],
   "source": [
    "print(doc['text'])"
   ]
  },
  {
   "cell_type": "code",
   "execution_count": null,
   "metadata": {},
   "outputs": [],
   "source": [
    "# useuful snippet to load a dataset from a custom path\n",
    "from datasets import load_dataset\n",
    "dataset = load_dataset('LOADING_SCRIPT', cache_dir=\"PATH/TO/MY/CACHE/DIR\")\n",
    "from datasets import load_metric\n",
    "metric = load_metric('glue', 'mrpc', cache_dir=\"MY/CACHE/DIRECTORY\")\n",
    "dataset.cleanup_cache_files()\n",
    "\n",
    "# restart from scratch the transformation\n",
    "updated_dataset = small_dataset.map(add_prefix, load_from_cache_file=False)\n",
    "\n",
    "from datasets import disable_caching\n",
    "disable_caching()\n",
    "\n",
    "from datasets import load_metric\n",
    "metric = load_metric('glue', 'mrpc', keep_in_memory=True)"
   ]
  },
  {
   "attachments": {},
   "cell_type": "markdown",
   "metadata": {},
   "source": [
    "Set `datasets.config.IN_MEMORY_MAX_SIZE` to a nonzero value (in bytes) that fits in your RAM memory.\n",
    "\n",
    "Set the environment variable `HF_DATASETS_IN_MEMORY_MAX_SIZE` to a nonzero value. Note that the first method takes higher precedence.\n"
   ]
  },
  {
   "cell_type": "markdown",
   "metadata": {},
   "source": [
    "# Tokenization"
   ]
  },
  {
   "cell_type": "code",
   "execution_count": 2,
   "metadata": {},
   "outputs": [
    {
     "ename": "NameError",
     "evalue": "name 'dataset' is not defined",
     "output_type": "error",
     "traceback": [
      "\u001b[0;31m---------------------------------------------------------------------------\u001b[0m",
      "\u001b[0;31mNameError\u001b[0m                                 Traceback (most recent call last)",
      "Cell \u001b[0;32mIn[2], line 1\u001b[0m\n\u001b[0;32m----> 1\u001b[0m dataset \u001b[39m=\u001b[39m dataset\u001b[39m.\u001b[39mmap(tokenization, batched\u001b[39m=\u001b[39m\u001b[39mTrue\u001b[39;00m)\n",
      "\u001b[0;31mNameError\u001b[0m: name 'dataset' is not defined"
     ]
    }
   ],
   "source": [
    "dataset.set_format(type=\"torch\", \n",
    "                   columns=[\"input_ids\", \"token_type_ids\", \"attention_mask\", \"labels\"])\n",
    "dataset.set_transform(transforms) # applies the transfomration on the fly\n",
    "dataset = dataset.map(tokenization, batched=True)"
   ]
  },
  {
   "cell_type": "code",
   "execution_count": 7,
   "metadata": {},
   "outputs": [
    {
     "ename": "ModuleNotFoundError",
     "evalue": "No module named 'torch'",
     "output_type": "error",
     "traceback": [
      "\u001b[0;31m---------------------------------------------------------------------------\u001b[0m",
      "\u001b[0;31mModuleNotFoundError\u001b[0m                       Traceback (most recent call last)",
      "Cell \u001b[0;32mIn[7], line 1\u001b[0m\n\u001b[0;32m----> 1\u001b[0m \u001b[39mimport\u001b[39;00m \u001b[39mtorch\u001b[39;00m\n\u001b[1;32m      2\u001b[0m \u001b[39mfrom\u001b[39;00m \u001b[39mtorch\u001b[39;00m\u001b[39m.\u001b[39;00m\u001b[39mutils\u001b[39;00m\u001b[39m.\u001b[39;00m\u001b[39mdata\u001b[39;00m \u001b[39mimport\u001b[39;00m DataLoader\n\u001b[1;32m      3\u001b[0m \u001b[39mfrom\u001b[39;00m \u001b[39mtransformers\u001b[39;00m \u001b[39mimport\u001b[39;00m AutoModelForMaskedLM, DataCollatorForLanguageModeling\n",
      "\u001b[0;31mModuleNotFoundError\u001b[0m: No module named 'torch'"
     ]
    }
   ],
   "source": [
    "import torch\n",
    "from torch.utils.data import DataLoader\n",
    "from transformers import AutoModelForMaskedLM, DataCollatorForLanguageModeling\n",
    "from tqdm import tqdm\n",
    "dataset = dataset.with_format(\"torch\")\n",
    "dataloader = DataLoader(dataset, collate_fn=DataCollatorForLanguageModeling(tokenizer))\n",
    "device = 'cuda' if torch.cuda.is_available() else 'cpu' \n",
    "model = AutoModelForMaskedLM.from_pretrained(\"distilbert-base-uncased\")\n",
    "model.train().to(device)\n",
    "optimizer = torch.optim.AdamW(params=model.parameters(), lr=1e-5)\n",
    "for epoch in range(3):\n",
    "    dataset.set_epoch(epoch)\n",
    "    for i, batch in enumerate(tqdm(dataloader, total=5)):\n",
    "        if i == 5:\n",
    "            break\n",
    "        batch = {k: v.to(device) for k, v in batch.items()}\n",
    "        outputs = model(**batch)\n",
    "        loss = outputs[0]\n",
    "        loss.backward()\n",
    "        optimizer.step()\n",
    "        optimizer.zero_grad()\n",
    "        if i % 10 == 0:\n",
    "            print(f\"loss: {loss}\")"
   ]
  },
  {
   "cell_type": "code",
   "execution_count": null,
   "metadata": {},
   "outputs": [],
   "source": []
  }
 ],
 "metadata": {
  "kernelspec": {
   "display_name": "Python 3",
   "language": "python",
   "name": "python3"
  },
  "language_info": {
   "codemirror_mode": {
    "name": "ipython",
    "version": 3
   },
   "file_extension": ".py",
   "mimetype": "text/x-python",
   "name": "python",
   "nbconvert_exporter": "python",
   "pygments_lexer": "ipython3",
   "version": "3.8.16"
  },
  "orig_nbformat": 4,
  "vscode": {
   "interpreter": {
    "hash": "b2e0ee68a5ce3ceaa075108b8db6c1826face00bb831ba78e7f88bec630d7222"
   }
  }
 },
 "nbformat": 4,
 "nbformat_minor": 2
}
