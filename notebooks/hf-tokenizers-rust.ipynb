{
 "cells": [
  {
   "attachments": {},
   "cell_type": "markdown",
   "metadata": {},
   "source": [
    "# Running RUST Tokenizers"
   ]
  },
  {
   "cell_type": "code",
   "execution_count": null,
   "metadata": {},
   "outputs": [],
   "source": [
    "!conda install cargo -y"
   ]
  },
  {
   "cell_type": "code",
   "execution_count": 1,
   "metadata": {},
   "outputs": [
    {
     "name": "stdout",
     "output_type": "stream",
     "text": [
      "\u001b[0m\u001b[0m\u001b[1m\u001b[32m     Created\u001b[0m binary (application) `tokken3` package\n"
     ]
    }
   ],
   "source": [
    "!cargo new tokken3"
   ]
  },
  {
   "cell_type": "code",
   "execution_count": 1,
   "metadata": {},
   "outputs": [
    {
     "name": "stdout",
     "output_type": "stream",
     "text": [
      "Writing tokenizer.rs\n"
     ]
    }
   ],
   "source": [
    "%%writefile tokenizer.rs\n",
    "\n",
    "use tokenizers::decoders::DecoderWrapper;\n",
    "use tokenizers::models::bpe::{BpeTrainerBuilder, BPE};\n",
    "use tokenizers::normalizers::{strip::Strip, unicode::NFC, utils::Sequence, NormalizerWrapper};\n",
    "use tokenizers::pre_tokenizers::byte_level::ByteLevel;\n",
    "use tokenizers::pre_tokenizers::PreTokenizerWrapper;\n",
    "use tokenizers::processors::PostProcessorWrapper;\n",
    "use tokenizers::{AddedToken, Model, Result, TokenizerBuilder};\n",
    "\n",
    "use std::path::Path;\n",
    "\n",
    "fn main() -> Result<()> {\n",
    "    let vocab_size: usize = 100;\n",
    "\n",
    "    let mut trainer = BpeTrainerBuilder::new()\n",
    "        .show_progress(true)\n",
    "        .vocab_size(vocab_size)\n",
    "        .min_frequency(0)\n",
    "        .special_tokens(vec![\n",
    "            AddedToken::from(String::from(\"<s>\"), true),\n",
    "            AddedToken::from(String::from(\"<pad>\"), true),\n",
    "            AddedToken::from(String::from(\"</s>\"), true),\n",
    "            AddedToken::from(String::from(\"<unk>\"), true),\n",
    "            AddedToken::from(String::from(\"<mask>\"), true),\n",
    "        ])\n",
    "        .build();\n",
    "\n",
    "    let mut tokenizer = TokenizerBuilder::new()\n",
    "        .with_model(BPE::default())\n",
    "        .with_normalizer(Some(Sequence::new(vec![\n",
    "            Strip::new(true, true).into(),\n",
    "            NFC.into(),\n",
    "        ])))\n",
    "        .with_pre_tokenizer(Some(ByteLevel::default()))\n",
    "        .with_post_processor(Some(ByteLevel::default()))\n",
    "        .with_decoder(Some(ByteLevel::default()))\n",
    "        .build()?;\n",
    "\n",
    "    let pretty = false;\n",
    "    tokenizer\n",
    "        .train_from_files(\n",
    "            &mut trainer,\n",
    "            vec![\"path/to/vocab.txt\".to_string()],\n",
    "        )?\n",
    "        .save(\"tokenizer.json\", pretty)?;\n",
    "\n",
    "    Ok(())\n",
    "}\n"
   ]
  },
  {
   "cell_type": "code",
   "execution_count": null,
   "metadata": {},
   "outputs": [],
   "source": [
    "!cargo build --release"
   ]
  },
  {
   "cell_type": "code",
   "execution_count": null,
   "metadata": {},
   "outputs": [],
   "source": [
    "!cargo run\n",
    "!cargo check"
   ]
  }
 ],
 "metadata": {
  "kernelspec": {
   "display_name": "Python 3",
   "language": "python",
   "name": "python3"
  },
  "language_info": {
   "codemirror_mode": {
    "name": "ipython",
    "version": 3
   },
   "file_extension": ".py",
   "mimetype": "text/x-python",
   "name": "python",
   "nbconvert_exporter": "python",
   "pygments_lexer": "ipython3",
   "version": "3.8.16"
  },
  "orig_nbformat": 4,
  "vscode": {
   "interpreter": {
    "hash": "b2e0ee68a5ce3ceaa075108b8db6c1826face00bb831ba78e7f88bec630d7222"
   }
  }
 },
 "nbformat": 4,
 "nbformat_minor": 2
}
